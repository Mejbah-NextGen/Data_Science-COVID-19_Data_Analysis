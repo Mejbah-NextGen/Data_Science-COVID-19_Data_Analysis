{
 "cells": [
  {
   "cell_type": "markdown",
   "id": "f115ca00",
   "metadata": {},
   "source": [
    "### Import Libraries and Read CSV file"
   ]
  },
  {
   "cell_type": "code",
   "execution_count": 17,
   "id": "551b9f5b",
   "metadata": {},
   "outputs": [],
   "source": [
    "import pandas as pd\n",
    "\n",
    "data=pd.read_csv('./Material/owid-covid-data.csv')\n"
   ]
  },
  {
   "cell_type": "markdown",
   "id": "79dad98d",
   "metadata": {},
   "source": [
    "## Summary of data types, non-null values, memory usage\n"
   ]
  },
  {
   "cell_type": "code",
   "execution_count": 19,
   "id": "1f9b40cc",
   "metadata": {},
   "outputs": [
    {
     "name": "stdout",
     "output_type": "stream",
     "text": [
      "<class 'pandas.core.frame.DataFrame'>\n",
      "RangeIndex: 429435 entries, 0 to 429434\n",
      "Data columns (total 67 columns):\n",
      " #   Column                                      Non-Null Count   Dtype  \n",
      "---  ------                                      --------------   -----  \n",
      " 0   iso_code                                    429435 non-null  object \n",
      " 1   continent                                   402910 non-null  object \n",
      " 2   location                                    429435 non-null  object \n",
      " 3   date                                        429435 non-null  object \n",
      " 4   total_cases                                 411804 non-null  float64\n",
      " 5   new_cases                                   410159 non-null  float64\n",
      " 6   new_cases_smoothed                          408929 non-null  float64\n",
      " 7   total_deaths                                411804 non-null  float64\n",
      " 8   new_deaths                                  410608 non-null  float64\n",
      " 9   new_deaths_smoothed                         409378 non-null  float64\n",
      " 10  total_cases_per_million                     411804 non-null  float64\n",
      " 11  new_cases_per_million                       410159 non-null  float64\n",
      " 12  new_cases_smoothed_per_million              408929 non-null  float64\n",
      " 13  total_deaths_per_million                    411804 non-null  float64\n",
      " 14  new_deaths_per_million                      410608 non-null  float64\n",
      " 15  new_deaths_smoothed_per_million             409378 non-null  float64\n",
      " 16  reproduction_rate                           184817 non-null  float64\n",
      " 17  icu_patients                                39116 non-null   float64\n",
      " 18  icu_patients_per_million                    39116 non-null   float64\n",
      " 19  hosp_patients                               40656 non-null   float64\n",
      " 20  hosp_patients_per_million                   40656 non-null   float64\n",
      " 21  weekly_icu_admissions                       10993 non-null   float64\n",
      " 22  weekly_icu_admissions_per_million           10993 non-null   float64\n",
      " 23  weekly_hosp_admissions                      24497 non-null   float64\n",
      " 24  weekly_hosp_admissions_per_million          24497 non-null   float64\n",
      " 25  total_tests                                 79387 non-null   float64\n",
      " 26  new_tests                                   75403 non-null   float64\n",
      " 27  total_tests_per_thousand                    79387 non-null   float64\n",
      " 28  new_tests_per_thousand                      75403 non-null   float64\n",
      " 29  new_tests_smoothed                          103965 non-null  float64\n",
      " 30  new_tests_smoothed_per_thousand             103965 non-null  float64\n",
      " 31  positive_rate                               95927 non-null   float64\n",
      " 32  tests_per_case                              94348 non-null   float64\n",
      " 33  tests_units                                 106788 non-null  object \n",
      " 34  total_vaccinations                          85417 non-null   float64\n",
      " 35  people_vaccinated                           81132 non-null   float64\n",
      " 36  people_fully_vaccinated                     78061 non-null   float64\n",
      " 37  total_boosters                              53600 non-null   float64\n",
      " 38  new_vaccinations                            70971 non-null   float64\n",
      " 39  new_vaccinations_smoothed                   195029 non-null  float64\n",
      " 40  total_vaccinations_per_hundred              85417 non-null   float64\n",
      " 41  people_vaccinated_per_hundred               81132 non-null   float64\n",
      " 42  people_fully_vaccinated_per_hundred         78061 non-null   float64\n",
      " 43  total_boosters_per_hundred                  53600 non-null   float64\n",
      " 44  new_vaccinations_smoothed_per_million       195029 non-null  float64\n",
      " 45  new_people_vaccinated_smoothed              192177 non-null  float64\n",
      " 46  new_people_vaccinated_smoothed_per_hundred  192177 non-null  float64\n",
      " 47  stringency_index                            196190 non-null  float64\n",
      " 48  population_density                          360492 non-null  float64\n",
      " 49  median_age                                  334663 non-null  float64\n",
      " 50  aged_65_older                               323270 non-null  float64\n",
      " 51  aged_70_older                               331315 non-null  float64\n",
      " 52  gdp_per_capita                              328292 non-null  float64\n",
      " 53  extreme_poverty                             211996 non-null  float64\n",
      " 54  cardiovasc_death_rate                       328865 non-null  float64\n",
      " 55  diabetes_prevalence                         345911 non-null  float64\n",
      " 56  female_smokers                              247165 non-null  float64\n",
      " 57  male_smokers                                243817 non-null  float64\n",
      " 58  handwashing_facilities                      161741 non-null  float64\n",
      " 59  hospital_beds_per_thousand                  290689 non-null  float64\n",
      " 60  life_expectancy                             390299 non-null  float64\n",
      " 61  human_development_index                     319127 non-null  float64\n",
      " 62  population                                  429435 non-null  int64  \n",
      " 63  excess_mortality_cumulative_absolute        13411 non-null   float64\n",
      " 64  excess_mortality_cumulative                 13411 non-null   float64\n",
      " 65  excess_mortality                            13411 non-null   float64\n",
      " 66  excess_mortality_cumulative_per_million     13411 non-null   float64\n",
      "dtypes: float64(61), int64(1), object(5)\n",
      "memory usage: 219.5+ MB\n",
      "None\n"
     ]
    }
   ],
   "source": [
    "Info=data.info()\n",
    "print(Info)"
   ]
  },
  {
   "cell_type": "markdown",
   "id": "12c881f1",
   "metadata": {},
   "source": [
    "## Statistical summary (mean, std, min, max, quartiles) for numeric columns"
   ]
  },
  {
   "cell_type": "code",
   "execution_count": 20,
   "id": "b6b39ae5",
   "metadata": {},
   "outputs": [
    {
     "name": "stdout",
     "output_type": "stream",
     "text": [
      "        total_cases     new_cases  new_cases_smoothed  total_deaths  \\\n",
      "count  4.118040e+05  4.101590e+05        4.089290e+05  4.118040e+05   \n",
      "mean   7.365292e+06  8.017360e+03        8.041026e+03  8.125957e+04   \n",
      "std    4.477582e+07  2.296649e+05        8.661611e+04  4.411901e+05   \n",
      "min    0.000000e+00  0.000000e+00        0.000000e+00  0.000000e+00   \n",
      "25%    6.280750e+03  0.000000e+00        0.000000e+00  4.300000e+01   \n",
      "50%    6.365300e+04  0.000000e+00        1.200000e+01  7.990000e+02   \n",
      "75%    7.582720e+05  0.000000e+00        3.132860e+02  9.574000e+03   \n",
      "max    7.758668e+08  4.423623e+07        6.319461e+06  7.057132e+06   \n",
      "\n",
      "          new_deaths  new_deaths_smoothed  total_cases_per_million  \\\n",
      "count  410608.000000        409378.000000            411804.000000   \n",
      "mean       71.852139            72.060873            112096.199396   \n",
      "std      1368.322990           513.636567            162240.412419   \n",
      "min         0.000000             0.000000                 0.000000   \n",
      "25%         0.000000             0.000000              1916.100500   \n",
      "50%         0.000000             0.000000             29145.475000   \n",
      "75%         0.000000             3.143000            156770.190000   \n",
      "max    103719.000000         14817.000000            763598.600000   \n",
      "\n",
      "       new_cases_per_million  new_cases_smoothed_per_million  \\\n",
      "count          410159.000000                   408929.000000   \n",
      "mean              122.357074                      122.713844   \n",
      "std              1508.778583                      559.701638   \n",
      "min                 0.000000                        0.000000   \n",
      "25%                 0.000000                        0.000000   \n",
      "50%                 0.000000                        2.794000   \n",
      "75%                 0.000000                       56.253000   \n",
      "max            241758.230000                    34536.890000   \n",
      "\n",
      "       total_deaths_per_million  ...   male_smokers  handwashing_facilities  \\\n",
      "count             411804.000000  ...  243817.000000           161741.000000   \n",
      "mean                 835.514313  ...      33.097723               50.649264   \n",
      "std                 1134.932671  ...      13.853948               31.905375   \n",
      "min                    0.000000  ...       7.700000                1.188000   \n",
      "25%                   24.568000  ...      22.600000               20.859000   \n",
      "50%                  295.089000  ...      33.100000               49.542000   \n",
      "75%                 1283.817000  ...      41.500000               82.502000   \n",
      "max                 6601.110000  ...      78.100000              100.000000   \n",
      "\n",
      "       hospital_beds_per_thousand  life_expectancy  human_development_index  \\\n",
      "count               290689.000000    390299.000000            319127.000000   \n",
      "mean                     3.106912        73.702098                 0.722139   \n",
      "std                      2.549205         7.387914                 0.148903   \n",
      "min                      0.100000        53.280000                 0.394000   \n",
      "25%                      1.300000        69.500000                 0.602000   \n",
      "50%                      2.500000        75.050000                 0.740000   \n",
      "75%                      4.210000        79.460000                 0.829000   \n",
      "max                     13.800000        86.750000                 0.957000   \n",
      "\n",
      "         population  excess_mortality_cumulative_absolute  \\\n",
      "count  4.294350e+05                          1.341100e+04   \n",
      "mean   1.520336e+08                          5.604765e+04   \n",
      "std    6.975408e+08                          1.568691e+05   \n",
      "min    4.700000e+01                         -3.772610e+04   \n",
      "25%    5.237980e+05                          1.765000e+02   \n",
      "50%    6.336393e+06                          6.815199e+03   \n",
      "75%    3.296952e+07                          3.912804e+04   \n",
      "max    7.975105e+09                          1.349776e+06   \n",
      "\n",
      "       excess_mortality_cumulative  excess_mortality  \\\n",
      "count                 13411.000000      13411.000000   \n",
      "mean                      9.766431         10.925353   \n",
      "std                      12.040658         24.560706   \n",
      "min                     -44.230000        -95.920000   \n",
      "25%                       2.060000         -1.500000   \n",
      "50%                       8.130000          5.660000   \n",
      "75%                      15.160000         15.575000   \n",
      "max                      78.080000        378.220000   \n",
      "\n",
      "       excess_mortality_cumulative_per_million  \n",
      "count                             13411.000000  \n",
      "mean                               1772.666400  \n",
      "std                                1991.892769  \n",
      "min                               -2936.453100  \n",
      "25%                                 116.872242  \n",
      "50%                                1270.801400  \n",
      "75%                                2883.024150  \n",
      "max                               10293.515000  \n",
      "\n",
      "[8 rows x 62 columns]\n"
     ]
    }
   ],
   "source": [
    "Describe = data.describe()\n",
    "print(Describe)"
   ]
  },
  {
   "cell_type": "markdown",
   "id": "82118e9d",
   "metadata": {},
   "source": [
    "## Shows data types of each column"
   ]
  },
  {
   "cell_type": "code",
   "execution_count": 22,
   "id": "9f51e28c",
   "metadata": {},
   "outputs": [
    {
     "name": "stdout",
     "output_type": "stream",
     "text": [
      "iso_code                                    object\n",
      "continent                                   object\n",
      "location                                    object\n",
      "date                                        object\n",
      "total_cases                                float64\n",
      "                                            ...   \n",
      "population                                   int64\n",
      "excess_mortality_cumulative_absolute       float64\n",
      "excess_mortality_cumulative                float64\n",
      "excess_mortality                           float64\n",
      "excess_mortality_cumulative_per_million    float64\n",
      "Length: 67, dtype: object\n"
     ]
    }
   ],
   "source": [
    "data_types = data.dtypes\n",
    "print(data_types)"
   ]
  },
  {
   "cell_type": "code",
   "execution_count": 26,
   "id": "63e8c793",
   "metadata": {},
   "outputs": [
    {
     "name": "stdout",
     "output_type": "stream",
     "text": [
      "(429435, 67)\n"
     ]
    }
   ],
   "source": [
    "shape = data.shape\n",
    "print(shape)"
   ]
  },
  {
   "cell_type": "code",
   "execution_count": 25,
   "id": "39f8ef19",
   "metadata": {},
   "outputs": [
    {
     "name": "stdout",
     "output_type": "stream",
     "text": [
      "Index(['iso_code', 'continent', 'location', 'date', 'total_cases', 'new_cases',\n",
      "       'new_cases_smoothed', 'total_deaths', 'new_deaths',\n",
      "       'new_deaths_smoothed', 'total_cases_per_million',\n",
      "       'new_cases_per_million', 'new_cases_smoothed_per_million',\n",
      "       'total_deaths_per_million', 'new_deaths_per_million',\n",
      "       'new_deaths_smoothed_per_million', 'reproduction_rate', 'icu_patients',\n",
      "       'icu_patients_per_million', 'hosp_patients',\n",
      "       'hosp_patients_per_million', 'weekly_icu_admissions',\n",
      "       'weekly_icu_admissions_per_million', 'weekly_hosp_admissions',\n",
      "       'weekly_hosp_admissions_per_million', 'total_tests', 'new_tests',\n",
      "       'total_tests_per_thousand', 'new_tests_per_thousand',\n",
      "       'new_tests_smoothed', 'new_tests_smoothed_per_thousand',\n",
      "       'positive_rate', 'tests_per_case', 'tests_units', 'total_vaccinations',\n",
      "       'people_vaccinated', 'people_fully_vaccinated', 'total_boosters',\n",
      "       'new_vaccinations', 'new_vaccinations_smoothed',\n",
      "       'total_vaccinations_per_hundred', 'people_vaccinated_per_hundred',\n",
      "       'people_fully_vaccinated_per_hundred', 'total_boosters_per_hundred',\n",
      "       'new_vaccinations_smoothed_per_million',\n",
      "       'new_people_vaccinated_smoothed',\n",
      "       'new_people_vaccinated_smoothed_per_hundred', 'stringency_index',\n",
      "       'population_density', 'median_age', 'aged_65_older', 'aged_70_older',\n",
      "       'gdp_per_capita', 'extreme_poverty', 'cardiovasc_death_rate',\n",
      "       'diabetes_prevalence', 'female_smokers', 'male_smokers',\n",
      "       'handwashing_facilities', 'hospital_beds_per_thousand',\n",
      "       'life_expectancy', 'human_development_index', 'population',\n",
      "       'excess_mortality_cumulative_absolute', 'excess_mortality_cumulative',\n",
      "       'excess_mortality', 'excess_mortality_cumulative_per_million'],\n",
      "      dtype='object')\n"
     ]
    }
   ],
   "source": [
    "column_names = data.columns\n",
    "print(column_names)"
   ]
  },
  {
   "cell_type": "code",
   "execution_count": 27,
   "id": "b2901533",
   "metadata": {},
   "outputs": [
    {
     "name": "stdout",
     "output_type": "stream",
     "text": [
      "  iso_code continent     location        date  total_cases  new_cases  \\\n",
      "0      AFG      Asia  Afghanistan  2020-01-05          0.0        0.0   \n",
      "1      AFG      Asia  Afghanistan  2020-01-06          0.0        0.0   \n",
      "2      AFG      Asia  Afghanistan  2020-01-07          0.0        0.0   \n",
      "3      AFG      Asia  Afghanistan  2020-01-08          0.0        0.0   \n",
      "4      AFG      Asia  Afghanistan  2020-01-09          0.0        0.0   \n",
      "\n",
      "   new_cases_smoothed  total_deaths  new_deaths  new_deaths_smoothed  ...  \\\n",
      "0                 NaN           0.0         0.0                  NaN  ...   \n",
      "1                 NaN           0.0         0.0                  NaN  ...   \n",
      "2                 NaN           0.0         0.0                  NaN  ...   \n",
      "3                 NaN           0.0         0.0                  NaN  ...   \n",
      "4                 NaN           0.0         0.0                  NaN  ...   \n",
      "\n",
      "   male_smokers  handwashing_facilities  hospital_beds_per_thousand  \\\n",
      "0           NaN                  37.746                         0.5   \n",
      "1           NaN                  37.746                         0.5   \n",
      "2           NaN                  37.746                         0.5   \n",
      "3           NaN                  37.746                         0.5   \n",
      "4           NaN                  37.746                         0.5   \n",
      "\n",
      "   life_expectancy  human_development_index  population  \\\n",
      "0            64.83                    0.511    41128772   \n",
      "1            64.83                    0.511    41128772   \n",
      "2            64.83                    0.511    41128772   \n",
      "3            64.83                    0.511    41128772   \n",
      "4            64.83                    0.511    41128772   \n",
      "\n",
      "   excess_mortality_cumulative_absolute  excess_mortality_cumulative  \\\n",
      "0                                   NaN                          NaN   \n",
      "1                                   NaN                          NaN   \n",
      "2                                   NaN                          NaN   \n",
      "3                                   NaN                          NaN   \n",
      "4                                   NaN                          NaN   \n",
      "\n",
      "   excess_mortality  excess_mortality_cumulative_per_million  \n",
      "0               NaN                                      NaN  \n",
      "1               NaN                                      NaN  \n",
      "2               NaN                                      NaN  \n",
      "3               NaN                                      NaN  \n",
      "4               NaN                                      NaN  \n",
      "\n",
      "[5 rows x 67 columns]\n"
     ]
    }
   ],
   "source": [
    "head = data.head()\n",
    "print(head)"
   ]
  },
  {
   "cell_type": "code",
   "execution_count": 28,
   "id": "92a7c2ee",
   "metadata": {},
   "outputs": [
    {
     "name": "stdout",
     "output_type": "stream",
     "text": [
      "       iso_code continent  location        date  total_cases  new_cases  \\\n",
      "429430      ZWE    Africa  Zimbabwe  2024-07-31     266386.0        0.0   \n",
      "429431      ZWE    Africa  Zimbabwe  2024-08-01     266386.0        0.0   \n",
      "429432      ZWE    Africa  Zimbabwe  2024-08-02     266386.0        0.0   \n",
      "429433      ZWE    Africa  Zimbabwe  2024-08-03     266386.0        0.0   \n",
      "429434      ZWE    Africa  Zimbabwe  2024-08-04     266386.0        0.0   \n",
      "\n",
      "        new_cases_smoothed  total_deaths  new_deaths  new_deaths_smoothed  \\\n",
      "429430                 0.0        5740.0         0.0                  0.0   \n",
      "429431                 0.0        5740.0         0.0                  0.0   \n",
      "429432                 0.0        5740.0         0.0                  0.0   \n",
      "429433                 0.0        5740.0         0.0                  0.0   \n",
      "429434                 0.0        5740.0         0.0                  0.0   \n",
      "\n",
      "        ...  male_smokers  handwashing_facilities  hospital_beds_per_thousand  \\\n",
      "429430  ...          30.7                  36.791                         1.7   \n",
      "429431  ...          30.7                  36.791                         1.7   \n",
      "429432  ...          30.7                  36.791                         1.7   \n",
      "429433  ...          30.7                  36.791                         1.7   \n",
      "429434  ...          30.7                  36.791                         1.7   \n",
      "\n",
      "        life_expectancy  human_development_index  population  \\\n",
      "429430            61.49                    0.571    16320539   \n",
      "429431            61.49                    0.571    16320539   \n",
      "429432            61.49                    0.571    16320539   \n",
      "429433            61.49                    0.571    16320539   \n",
      "429434            61.49                    0.571    16320539   \n",
      "\n",
      "        excess_mortality_cumulative_absolute  excess_mortality_cumulative  \\\n",
      "429430                                   NaN                          NaN   \n",
      "429431                                   NaN                          NaN   \n",
      "429432                                   NaN                          NaN   \n",
      "429433                                   NaN                          NaN   \n",
      "429434                                   NaN                          NaN   \n",
      "\n",
      "        excess_mortality  excess_mortality_cumulative_per_million  \n",
      "429430               NaN                                      NaN  \n",
      "429431               NaN                                      NaN  \n",
      "429432               NaN                                      NaN  \n",
      "429433               NaN                                      NaN  \n",
      "429434               NaN                                      NaN  \n",
      "\n",
      "[5 rows x 67 columns]\n"
     ]
    }
   ],
   "source": [
    "tail = data.tail()\n",
    "print(tail)"
   ]
  },
  {
   "cell_type": "code",
   "execution_count": null,
   "id": "d36505bb",
   "metadata": {},
   "outputs": [],
   "source": []
  }
 ],
 "metadata": {
  "kernelspec": {
   "display_name": "Python 3",
   "language": "python",
   "name": "python3"
  },
  "language_info": {
   "codemirror_mode": {
    "name": "ipython",
    "version": 3
   },
   "file_extension": ".py",
   "mimetype": "text/x-python",
   "name": "python",
   "nbconvert_exporter": "python",
   "pygments_lexer": "ipython3",
   "version": "3.13.5"
  }
 },
 "nbformat": 4,
 "nbformat_minor": 5
}
