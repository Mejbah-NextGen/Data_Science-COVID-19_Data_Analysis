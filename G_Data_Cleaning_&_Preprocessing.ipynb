{
 "cells": [
  {
   "cell_type": "markdown",
   "id": "f1b8456e",
   "metadata": {},
   "source": [
    "## Importing Library and Read CSV File"
   ]
  },
  {
   "cell_type": "code",
   "execution_count": 2,
   "id": "698eabba",
   "metadata": {},
   "outputs": [],
   "source": [
    "import pandas as pd\n",
    "import numpy as np\n",
    "data = pd.read_csv('./Material/owid-covid-data.csv')"
   ]
  },
  {
   "cell_type": "markdown",
   "id": "0e507cb1",
   "metadata": {},
   "source": [
    "## Handle missing values in total_cases, new_cases, and total_deaths"
   ]
  },
  {
   "cell_type": "code",
   "execution_count": 12,
   "id": "b252c921",
   "metadata": {},
   "outputs": [
    {
     "name": "stdout",
     "output_type": "stream",
     "text": [
      "0    0.0\n",
      "1    0.0\n",
      "2    0.0\n",
      "3    0.0\n",
      "4    0.0\n",
      "Name: total_cases, dtype: float64\n",
      "429430    266386.0\n",
      "429431    266386.0\n",
      "429432    266386.0\n",
      "429433    266386.0\n",
      "429434    266386.0\n",
      "Name: total_cases, dtype: float64\n",
      "0    0.0\n",
      "1    0.0\n",
      "2    0.0\n",
      "3    0.0\n",
      "4    0.0\n",
      "Name: new_cases, dtype: float64\n",
      "429430    0.0\n",
      "429431    0.0\n",
      "429432    0.0\n",
      "429433    0.0\n",
      "429434    0.0\n",
      "Name: new_cases, dtype: float64\n",
      "0    0.0\n",
      "1    0.0\n",
      "2    0.0\n",
      "3    0.0\n",
      "4    0.0\n",
      "Name: total_deaths, dtype: float64\n",
      "429430    5740.0\n",
      "429431    5740.0\n",
      "429432    5740.0\n",
      "429433    5740.0\n",
      "429434    5740.0\n",
      "Name: total_deaths, dtype: float64\n"
     ]
    }
   ],
   "source": [
    "for col in ['total_cases', 'new_cases', 'total_deaths']:\n",
    "    data[col] = data[col].fillna(0)\n",
    "    print(data[col].head())\n",
    "    print(data[col].tail())"
   ]
  },
  {
   "cell_type": "markdown",
   "id": "84b1f7c9",
   "metadata": {},
   "source": [
    "## Convert date column to datetime format and extract year/month"
   ]
  },
  {
   "cell_type": "code",
   "execution_count": 13,
   "id": "0b2d6e4d",
   "metadata": {},
   "outputs": [
    {
     "data": {
      "text/html": [
       "<div>\n",
       "<style scoped>\n",
       "    .dataframe tbody tr th:only-of-type {\n",
       "        vertical-align: middle;\n",
       "    }\n",
       "\n",
       "    .dataframe tbody tr th {\n",
       "        vertical-align: top;\n",
       "    }\n",
       "\n",
       "    .dataframe thead th {\n",
       "        text-align: right;\n",
       "    }\n",
       "</style>\n",
       "<table border=\"1\" class=\"dataframe\">\n",
       "  <thead>\n",
       "    <tr style=\"text-align: right;\">\n",
       "      <th></th>\n",
       "      <th>date</th>\n",
       "      <th>year</th>\n",
       "      <th>month</th>\n",
       "    </tr>\n",
       "  </thead>\n",
       "  <tbody>\n",
       "    <tr>\n",
       "      <th>0</th>\n",
       "      <td>2020-01-05</td>\n",
       "      <td>2020</td>\n",
       "      <td>1</td>\n",
       "    </tr>\n",
       "    <tr>\n",
       "      <th>1</th>\n",
       "      <td>2020-01-06</td>\n",
       "      <td>2020</td>\n",
       "      <td>1</td>\n",
       "    </tr>\n",
       "    <tr>\n",
       "      <th>2</th>\n",
       "      <td>2020-01-07</td>\n",
       "      <td>2020</td>\n",
       "      <td>1</td>\n",
       "    </tr>\n",
       "    <tr>\n",
       "      <th>3</th>\n",
       "      <td>2020-01-08</td>\n",
       "      <td>2020</td>\n",
       "      <td>1</td>\n",
       "    </tr>\n",
       "    <tr>\n",
       "      <th>4</th>\n",
       "      <td>2020-01-09</td>\n",
       "      <td>2020</td>\n",
       "      <td>1</td>\n",
       "    </tr>\n",
       "  </tbody>\n",
       "</table>\n",
       "</div>"
      ],
      "text/plain": [
       "        date  year  month\n",
       "0 2020-01-05  2020      1\n",
       "1 2020-01-06  2020      1\n",
       "2 2020-01-07  2020      1\n",
       "3 2020-01-08  2020      1\n",
       "4 2020-01-09  2020      1"
      ]
     },
     "execution_count": 13,
     "metadata": {},
     "output_type": "execute_result"
    }
   ],
   "source": [
    "data['date'] = pd.to_datetime(data['date'])\n",
    "data['year'] = data['date'].dt.year\n",
    "data['month'] = data['date'].dt.month\n",
    "data[['date', 'year', 'month']].head()"
   ]
  },
  {
   "cell_type": "code",
   "execution_count": null,
   "id": "347279b7",
   "metadata": {},
   "outputs": [],
   "source": []
  }
 ],
 "metadata": {
  "kernelspec": {
   "display_name": "Python 3",
   "language": "python",
   "name": "python3"
  },
  "language_info": {
   "codemirror_mode": {
    "name": "ipython",
    "version": 3
   },
   "file_extension": ".py",
   "mimetype": "text/x-python",
   "name": "python",
   "nbconvert_exporter": "python",
   "pygments_lexer": "ipython3",
   "version": "3.13.5"
  }
 },
 "nbformat": 4,
 "nbformat_minor": 5
}
